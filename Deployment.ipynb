{
 "cells": [
  {
   "cell_type": "code",
   "execution_count": 1,
   "id": "3a0182b0-8d64-4e17-b90a-980e8325fb62",
   "metadata": {},
   "outputs": [],
   "source": [
    "import pickle"
   ]
  },
  {
   "cell_type": "code",
   "execution_count": 2,
   "id": "ea7f5c6d-20eb-4a1e-856c-44b3d37075de",
   "metadata": {},
   "outputs": [],
   "source": [
    "loaded_model=pickle.load(open(\"finalized_model_linear.sav\",'rb'))\n",
    "result=loaded_model.predict([[123,456,789,987,654]])"
   ]
  },
  {
   "cell_type": "code",
   "execution_count": 3,
   "id": "9a90a400-20c3-459a-9f03-80d1c56ed088",
   "metadata": {},
   "outputs": [
    {
     "data": {
      "text/plain": [
       "array([14935.95073505])"
      ]
     },
     "execution_count": 3,
     "metadata": {},
     "output_type": "execute_result"
    }
   ],
   "source": [
    "result"
   ]
  },
  {
   "cell_type": "code",
   "execution_count": null,
   "id": "701f4526-6d28-42d0-a5db-703b81e6ac9f",
   "metadata": {},
   "outputs": [],
   "source": []
  }
 ],
 "metadata": {
  "kernelspec": {
   "display_name": "Python 3 (ipykernel)",
   "language": "python",
   "name": "python3"
  },
  "language_info": {
   "codemirror_mode": {
    "name": "ipython",
    "version": 3
   },
   "file_extension": ".py",
   "mimetype": "text/x-python",
   "name": "python",
   "nbconvert_exporter": "python",
   "pygments_lexer": "ipython3",
   "version": "3.12.4"
  }
 },
 "nbformat": 4,
 "nbformat_minor": 5
}
