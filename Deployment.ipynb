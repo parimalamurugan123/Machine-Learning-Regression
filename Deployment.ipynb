{
 "cells": [
  {
   "cell_type": "code",
   "execution_count": 1,
   "id": "fa8de9d9-c07b-4be5-ab47-9ad0fdda28cd",
   "metadata": {},
   "outputs": [],
   "source": [
    "import pickle"
   ]
  },
  {
   "cell_type": "code",
   "execution_count": 2,
   "id": "bf95105b-2008-4347-b12c-49e21ff849c4",
   "metadata": {},
   "outputs": [
    {
     "name": "stderr",
     "output_type": "stream",
     "text": [
      "C:\\Python\\Users\\kavit\\anaconda3\\Lib\\site-packages\\sklearn\\base.py:493: UserWarning: X does not have valid feature names, but RandomForestRegressor was fitted with feature names\n",
      "  warnings.warn(\n"
     ]
    }
   ],
   "source": [
    "loaded_model=pickle.load(open(\"finalized_model_linear.sav\",'rb'))\n",
    "result=loaded_model.predict([[123,456,789,987,654]])"
   ]
  },
  {
   "cell_type": "code",
   "execution_count": 3,
   "id": "68380504-e9d9-4fde-a9f4-3225fb22f46f",
   "metadata": {},
   "outputs": [
    {
     "data": {
      "text/plain": [
       "array([56517.72267094])"
      ]
     },
     "execution_count": 3,
     "metadata": {},
     "output_type": "execute_result"
    }
   ],
   "source": [
    "result\n"
   ]
  },
  {
   "cell_type": "code",
   "execution_count": null,
   "id": "881ae8a6-7b8e-4daf-8ac1-7a35b6e56a77",
   "metadata": {},
   "outputs": [],
   "source": []
  }
 ],
 "metadata": {
  "kernelspec": {
   "display_name": "Python 3 (ipykernel)",
   "language": "python",
   "name": "python3"
  },
  "language_info": {
   "codemirror_mode": {
    "name": "ipython",
    "version": 3
   },
   "file_extension": ".py",
   "mimetype": "text/x-python",
   "name": "python",
   "nbconvert_exporter": "python",
   "pygments_lexer": "ipython3",
   "version": "3.12.4"
  }
 },
 "nbformat": 4,
 "nbformat_minor": 5
}
